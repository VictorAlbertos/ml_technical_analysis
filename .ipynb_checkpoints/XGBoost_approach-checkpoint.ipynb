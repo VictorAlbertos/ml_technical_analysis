{
 "cells": [
  {
   "cell_type": "code",
   "execution_count": 113,
   "metadata": {
    "collapsed": true
   },
   "outputs": [],
   "source": [
    "import pandas as pd\n",
    "\n",
    "from sklearn.model_selection import train_test_split\n",
    "from sklearn.metrics import *\n",
    "\n",
    "import xgboost as xgb\n",
    "from xgboost.sklearn import XGBRegressor\n",
    "from sklearn.model_selection import GridSearchCV\n",
    "from xgboost import plot_importance\n",
    "\n",
    "import numpy as np\n",
    "\n",
    "import seaborn as sns\n",
    "import matplotlib.pyplot as plt\n",
    "%matplotlib inline\n",
    "\n",
    "sns.set()"
   ]
  },
  {
   "cell_type": "code",
   "execution_count": 130,
   "metadata": {},
   "outputs": [],
   "source": [
    "symbol = 'S&P_500'\n",
    "df = pd.read_csv(f'datasets/{symbol}.csv')"
   ]
  },
  {
   "cell_type": "code",
   "execution_count": 131,
   "metadata": {},
   "outputs": [],
   "source": [
    "def plot_feature_importance(model, X):\n",
    "    features_name = X.columns.values\n",
    "    y_pos = np.arange(len(features_name))\n",
    "\n",
    "    _, ax = plt.subplots()\n",
    "\n",
    "    ax.set_yticks(y_pos)\n",
    "    ax.set_yticklabels(features_name)\n",
    "    ax.barh(y_pos, model.feature_importances_);"
   ]
  },
  {
   "cell_type": "code",
   "execution_count": 132,
   "metadata": {},
   "outputs": [],
   "source": [
    "y = df.trading_signal\n",
    "X = df.drop(['trading_signal', 'close', 'low', 'high', 'open', 'volume'], axis=1).select_dtypes(exclude=['object'])\n",
    "train_X, test_X, train_y, test_y = train_test_split(X.as_matrix(), y.as_matrix(), test_size=0.25, shuffle = False, stratify = None)"
   ]
  },
  {
   "cell_type": "code",
   "execution_count": 141,
   "metadata": {},
   "outputs": [
    {
     "name": "stdout",
     "output_type": "stream",
     "text": [
      "MAE: 0.22410196395173204\n"
     ]
    },
    {
     "data": {
      "image/png": "[encoded data removed]",
      "text/plain": [
       "<matplotlib.figure.Figure at 0x1182d95c0>"
      ]
     },
     "metadata": {},
     "output_type": "display_data"
    }
   ],
   "source": [
    "xgb_model = XGBRegressor(\n",
    "    n_estimators = 100,\n",
    "    colsample_bytree= 0.9,\n",
    "    gamma= 0,\n",
    "    learning_rate = 0.07,\n",
    "    max_depth = 7,\n",
    "    min_child_weight = 4,\n",
    "    objective = 'reg:linear',\n",
    "    reg_alpha = 0.05,\n",
    "    subsample = 0.8                                  \n",
    ")\n",
    "xgb_model.fit(train_X, train_y, early_stopping_rounds=5, eval_set=[(test_X, test_y)], verbose=False)\n",
    "\n",
    "predictions = xgb_grid.predict(test_X)\n",
    "print(f\"MAE: {mean_absolute_error(test_y, predictions)}\")\n",
    "plot_feature_importance(xgb_model, X)"
   ]
  },
  {
   "cell_type": "code",
   "execution_count": 140,
   "metadata": {},
   "outputs": [
    {
     "name": "stdout",
     "output_type": "stream",
     "text": [
      "Fitting 2 folds for each of 3 candidates, totalling 6 fits\n"
     ]
    },
    {
     "name": "stderr",
     "output_type": "stream",
     "text": [
      "[Parallel(n_jobs=5)]: Done   4 out of   6 | elapsed:    5.7s remaining:    2.8s\n",
      "[Parallel(n_jobs=5)]: Done   6 out of   6 | elapsed:    9.5s finished\n"
     ]
    },
    {
     "name": "stdout",
     "output_type": "stream",
     "text": [
      "MAE: 0.22410196395173204\n",
      "-0.0015356559602402882 {'n_estimators': 100}\n"
     ]
    }
   ],
   "source": [
    "parameters = {'n_estimators': [100, 500, 1000]}\n",
    "\n",
    "xgb_grid = GridSearchCV(XGBRegressor(\n",
    "    colsample_bytree= 0.9,\n",
    "    gamma= 0,\n",
    "    learning_rate = 0.07,\n",
    "    max_depth = 7,\n",
    "    min_child_weight = 4,\n",
    "    objective = 'reg:linear',\n",
    "    reg_alpha = 0.05,\n",
    "    subsample = 0.8                                  \n",
    "), parameters, cv = 2, n_jobs = 5, verbose=1)\n",
    "\n",
    "xgb_grid.fit(train_X, train_y)\n",
    "\n",
    "predictions = xgb_grid.predict(test_X)\n",
    "print(f\"MAE: {mean_absolute_error(test_y, predictions)}\")\n",
    "print(xgb_grid.best_score_, xgb_grid.best_params_)"
   ]
  },
  {
   "cell_type": "code",
   "execution_count": 163,
   "metadata": {},
   "outputs": [],
   "source": [
    "padding = np.full(train_X.shape[0], np.nan)\n",
    "prediction_trading_signal = np.concatenate((padding, predictions), axis=None)"
   ]
  },
  {
   "cell_type": "code",
   "execution_count": 166,
   "metadata": {},
   "outputs": [],
   "source": [
    "df['p_t_s_xgboost'] = prediction_trading_signal"
   ]
  },
  {
   "cell_type": "code",
   "execution_count": null,
   "metadata": {},
   "outputs": [],
   "source": []
  }
 ],
 "metadata": {
  "kernelspec": {
   "display_name": "Python 3",
   "language": "python",
   "name": "python3"
  },
  "language_info": {
   "codemirror_mode": {
    "name": "ipython",
    "version": 3
   },
   "file_extension": ".py",
   "mimetype": "text/x-python",
   "name": "python",
   "nbconvert_exporter": "python",
   "pygments_lexer": "ipython3",
   "version": "3.6.4"
  }
 },
 "nbformat": 4,
 "nbformat_minor": 2
}
