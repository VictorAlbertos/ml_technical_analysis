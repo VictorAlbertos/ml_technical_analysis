{
 "cells": [
  {
   "cell_type": "code",
   "execution_count": 1,
   "metadata": {
    "collapsed": true
   },
   "outputs": [],
   "source": [
    "import pandas as pd\n",
    "\n",
    "from sklearn.model_selection import train_test_split\n",
    "from sklearn.metrics import *\n",
    "\n",
    "from sklearn.neighbors import KNeighborsRegressor\n",
    "from sklearn.model_selection import GridSearchCV\n",
    "\n",
    "import numpy as np\n",
    "\n",
    "import seaborn as sns\n",
    "import matplotlib.pyplot as plt\n",
    "%matplotlib inline\n",
    "\n",
    "sns.set()"
   ]
  },
  {
   "cell_type": "code",
   "execution_count": 2,
   "metadata": {},
   "outputs": [],
   "source": [
    "symbol = 'S&P_500'\n",
    "df = pd.read_csv(f'../datasets/{symbol}.csv')"
   ]
  },
  {
   "cell_type": "code",
   "execution_count": 3,
   "metadata": {},
   "outputs": [],
   "source": [
    "y = df.trading_signal\n",
    "X = df[['sma', 'macd', 'stochastic_k', 'stochastic_d', 'rsi', 'william_r']]\n",
    "X = (X-X.min())/(X.max()-X.min())\n",
    "train_X, test_X, train_y, test_y = train_test_split(X.as_matrix(), y.as_matrix(), test_size=0.25)"
   ]
  },
  {
   "cell_type": "code",
   "execution_count": 4,
   "metadata": {},
   "outputs": [
    {
     "name": "stdout",
     "output_type": "stream",
     "text": [
      "MAE: 0.21577862741794965\n"
     ]
    }
   ],
   "source": [
    "model = KNeighborsRegressor(leaf_size= 20, n_neighbors= 8)\n",
    "model.fit(train_X, train_y)\n",
    "\n",
    "predictions = model.predict(test_X)\n",
    "print(f\"MAE: {mean_absolute_error(test_y, predictions)}\")"
   ]
  },
  {
   "cell_type": "code",
   "execution_count": 5,
   "metadata": {},
   "outputs": [],
   "source": [
    "padding = np.full(train_X.shape[0], np.nan)\n",
    "prediction_trading_signal = np.concatenate((padding, predictions), axis=None)\n",
    "df['p_t_s_knn'] = prediction_trading_signal\n",
    "df.to_csv(f'../datasets/{symbol}.csv')"
   ]
  },
  {
   "cell_type": "code",
   "execution_count": 23,
   "metadata": {},
   "outputs": [
    {
     "name": "stdout",
     "output_type": "stream",
     "text": [
      "Fitting 2 folds for each of 819 candidates, totalling 1638 fits\n",
      "MAE: 0.12721148771586419\n",
      "0.3326347010607735 {'leaf_size': 20, 'n_neighbors': 2}\n"
     ]
    },
    {
     "name": "stderr",
     "output_type": "stream",
     "text": [
      "[Parallel(n_jobs=5)]: Done 1638 out of 1638 | elapsed:    1.8s finished\n"
     ]
    }
   ],
   "source": [
    "parameters = {\n",
    "    'leaf_size': range(20,41),\n",
    "    'n_neighbors': range(1,40)   \n",
    "}\n",
    "\n",
    "grid = GridSearchCV(KNeighborsRegressor(), parameters, cv = 2, n_jobs = 5, verbose=1)\n",
    "grid.fit(train_X, train_y)\n",
    "\n",
    "print(f\"MAE: {mean_absolute_error(test_y, grid.predict(test_X))}\")\n",
    "print(grid.best_score_, grid.best_params_)"
   ]
  },
  {
   "cell_type": "code",
   "execution_count": null,
   "metadata": {},
   "outputs": [],
   "source": []
  }
 ],
 "metadata": {
  "kernelspec": {
   "display_name": "Python 3",
   "language": "python",
   "name": "python3"
  },
  "language_info": {
   "codemirror_mode": {
    "name": "ipython",
    "version": 3
   },
   "file_extension": ".py",
   "mimetype": "text/x-python",
   "name": "python",
   "nbconvert_exporter": "python",
   "pygments_lexer": "ipython3",
   "version": "3.6.4"
  }
 },
 "nbformat": 4,
 "nbformat_minor": 2
}
