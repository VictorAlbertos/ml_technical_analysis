{
 "cells": [
  {
   "cell_type": "code",
   "execution_count": 13,
   "metadata": {
    "collapsed": true
   },
   "outputs": [],
   "source": [
    "import pandas as pd\n",
    "\n",
    "from sklearn.model_selection import train_test_split\n",
    "from sklearn.metrics import *\n",
    "\n",
    "import xgboost as xgb\n",
    "from xgboost.sklearn import XGBRegressor\n",
    "from sklearn.model_selection import GridSearchCV\n",
    "from xgboost import plot_importance\n",
    "\n",
    "import numpy as np\n",
    "\n",
    "import seaborn as sns\n",
    "import matplotlib.pyplot as plt\n",
    "%matplotlib inline\n",
    "\n",
    "sns.set()"
   ]
  },
  {
   "cell_type": "code",
   "execution_count": 14,
   "metadata": {},
   "outputs": [],
   "source": [
    "symbol = 'S&P_500'\n",
    "df = pd.read_csv(f'../datasets/{symbol}.csv')"
   ]
  },
  {
   "cell_type": "code",
   "execution_count": 15,
   "metadata": {},
   "outputs": [],
   "source": [
    "def plot_feature_importance(model, X):\n",
    "    features_name = X.columns.values\n",
    "    y_pos = np.arange(len(features_name))\n",
    "\n",
    "    _, ax = plt.subplots()\n",
    "\n",
    "    ax.set_yticks(y_pos)\n",
    "    ax.set_yticklabels(features_name)\n",
    "    ax.barh(y_pos, model.feature_importances_);"
   ]
  },
  {
   "cell_type": "code",
   "execution_count": 16,
   "metadata": {},
   "outputs": [],
   "source": [
    "y = df.trading_signal\n",
    "X = df[['sma', 'macd', 'stochastic_k', 'stochastic_d', 'rsi', 'william_r']]\n",
    "train_X, test_X, train_y, test_y = train_test_split(X.as_matrix(), y.as_matrix(), test_size=0.25, shuffle = False, stratify = None)"
   ]
  },
  {
   "cell_type": "code",
   "execution_count": 19,
   "metadata": {},
   "outputs": [
    {
     "name": "stdout",
     "output_type": "stream",
     "text": [
      "MAE: 0.2185965682539541\n"
     ]
    },
    {
     "data": {
      "image/png": "[encoded data removed]",
      "text/plain": [
       "<matplotlib.figure.Figure at 0x1a0bb69240>"
      ]
     },
     "metadata": {},
     "output_type": "display_data"
    }
   ],
   "source": [
    "model = XGBRegressor(\n",
    "    n_estimators = 100,\n",
    "    colsample_bytree= 0.9,\n",
    "    gamma= 0,\n",
    "    learning_rate = 0.07,\n",
    "    max_depth = 7,\n",
    "    min_child_weight = 4,\n",
    "    reg_alpha = 0.05,\n",
    "    subsample = 0.8                                  \n",
    ")\n",
    "model.fit(train_X, train_y, early_stopping_rounds=5, eval_set=[(test_X, test_y)], verbose=False)\n",
    "\n",
    "predictions = model.predict(test_X)\n",
    "print(f\"MAE: {mean_absolute_error(test_y, predictions)}\")\n",
    "plot_feature_importance(model, X)"
   ]
  },
  {
   "cell_type": "code",
   "execution_count": 20,
   "metadata": {},
   "outputs": [],
   "source": [
    "padding = np.full(train_X.shape[0], np.nan)\n",
    "prediction_trading_signal = np.concatenate((padding, predictions), axis=None)\n",
    "df['p_t_s_xgboost'] = prediction_trading_signal\n",
    "df.to_csv(f'../datasets/{symbol}.csv')"
   ]
  },
  {
   "cell_type": "code",
   "execution_count": null,
   "metadata": {},
   "outputs": [],
   "source": [
    "parameters = {'n_estimators': [100, 500, 1000]}\n",
    "\n",
    "xgb_grid = GridSearchCV(XGBRegressor(\n",
    "    colsample_bytree= 0.9,\n",
    "    gamma= 0,\n",
    "    learning_rate = 0.07,\n",
    "    max_depth = 7,\n",
    "    min_child_weight = 4,\n",
    "    objective = 'reg:linear',\n",
    "    reg_alpha = 0.05,\n",
    "    subsample = 0.8                                  \n",
    "), parameters, cv = 2, n_jobs = 5, verbose=1)\n",
    "\n",
    "xgb_grid.fit(train_X, train_y)\n",
    "\n",
    "predictions = xgb_grid.predict(test_X)\n",
    "print(f\"MAE: {mean_absolute_error(test_y, predictions)}\")\n",
    "print(xgb_grid.best_score_, xgb_grid.best_params_)"
   ]
  }
 ],
 "metadata": {
  "kernelspec": {
   "display_name": "Python 3",
   "language": "python",
   "name": "python3"
  },
  "language_info": {
   "codemirror_mode": {
    "name": "ipython",
    "version": 3
   },
   "file_extension": ".py",
   "mimetype": "text/x-python",
   "name": "python",
   "nbconvert_exporter": "python",
   "pygments_lexer": "ipython3",
   "version": "3.6.4"
  }
 },
 "nbformat": 4,
 "nbformat_minor": 2
}
