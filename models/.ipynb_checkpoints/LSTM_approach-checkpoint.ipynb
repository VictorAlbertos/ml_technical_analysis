{
 "cells": [
  {
   "cell_type": "code",
   "execution_count": 1,
   "metadata": {
    "collapsed": true
   },
   "outputs": [
    {
     "name": "stderr",
     "output_type": "stream",
     "text": [
      "/anaconda3/lib/python3.6/site-packages/h5py/__init__.py:36: FutureWarning: Conversion of the second argument of issubdtype from `float` to `np.floating` is deprecated. In future, it will be treated as `np.float64 == np.dtype(float).type`.\n",
      "  from ._conv import register_converters as _register_converters\n",
      "Using TensorFlow backend.\n"
     ]
    }
   ],
   "source": [
    "import pandas as pd\n",
    "from pandas import DataFrame\n",
    "from pandas import concat\n",
    "\n",
    "from sklearn.model_selection import train_test_split\n",
    "from sklearn.metrics import *\n",
    "\n",
    "from keras.models import Sequential\n",
    "from keras.layers import LSTM\n",
    "from keras.layers import BatchNormalization\n",
    "from keras.layers.core import Dense, Dropout, Activation, Flatten\n",
    "\n",
    "import numpy as np\n",
    "\n",
    "import seaborn as sns\n",
    "import matplotlib.pyplot as plt\n",
    "%matplotlib inline\n",
    "\n",
    "import warnings\n",
    "warnings.filterwarnings('ignore')\n",
    "\n",
    "sns.set()"
   ]
  },
  {
   "cell_type": "code",
   "execution_count": 122,
   "metadata": {},
   "outputs": [],
   "source": [
    "symbol = 'S&P_500'\n",
    "df = pd.read_csv(f'../datasets/{symbol}.csv')\n",
    "\n",
    "df_target = df[['sma', 'macd', 'stochastic_k', 'stochastic_d', 'rsi', 'william_r']]\n",
    "df_normalized = (df_target-df_target.min())/(df_target.max()-df_target.min())"
   ]
  },
  {
   "cell_type": "code",
   "execution_count": 148,
   "metadata": {},
   "outputs": [],
   "source": [
    "features = []\n",
    "labels = []\n",
    "start_date = None\n",
    "\n",
    "for i, row in df.iterrows():\n",
    "    if i < 31: continue\n",
    "    \n",
    "    trading_signal_yesterday = df.trading_signal[i-31:i-1]\n",
    "    sma = df_normalized.sma[i-30:i]\n",
    "    macd = df_normalized.macd[i-30:i]\n",
    "    stochastic_k = df_normalized.stochastic_k[i-30:i]\n",
    "    stochastic_d = df_normalized.stochastic_d[i-30:i]\n",
    "    rsi = df_normalized.rsi[i-30:i]\n",
    "    william_r = df_normalized.william_r[i-30:i]\n",
    "    \n",
    "    features.append([trading_signal_yesterday, sma, macd, stochastic_k, stochastic_d, rsi, william_r])\n",
    "    labels.append(df.trading_signal[i])\n",
    "    \n",
    "    if start_date is None:\n",
    "        start_date = df.date[i]\n",
    "    \n",
    "features = np.array(features)\n",
    "labels = np.array(labels)"
   ]
  },
  {
   "cell_type": "code",
   "execution_count": 149,
   "metadata": {},
   "outputs": [
    {
     "data": {
      "text/plain": [
       "((12534, 7, 30),\n",
       " array([0.43689454, 0.5       , 0.5       , ..., 0.52838094, 0.69313551,\n",
       "        0.52893504]))"
      ]
     },
     "execution_count": 149,
     "metadata": {},
     "output_type": "execute_result"
    }
   ],
   "source": [
    "features = np.reshape(features, (features.shape[0], 7, features.shape[2]))  \n",
    "features.shape, labels"
   ]
  },
  {
   "cell_type": "code",
   "execution_count": 150,
   "metadata": {},
   "outputs": [],
   "source": [
    "y = labels\n",
    "X = features\n",
    "train_X, test_X, train_y, test_y = train_test_split(X, y, test_size=0.25)"
   ]
  },
  {
   "cell_type": "code",
   "execution_count": 191,
   "metadata": {},
   "outputs": [],
   "source": [
    "model = Sequential()\n",
    "\n",
    "model.add(LSTM(50, activation='relu', return_sequences=True, input_shape=(train_X.shape[1], train_X.shape[2])))\n",
    "model.add(Dropout(0.9))\n",
    "\n",
    "model.add(LSTM(35, activation='relu', return_sequences=True))  \n",
    "model.add(Dropout(0.75))\n",
    "\n",
    "model.add(LSTM(units=10))  \n",
    "model.add(Dropout(0.75))  \n",
    "\n",
    "model.add(Dense(1))\n",
    "model.add(Activation('sigmoid'))\n",
    "\n",
    "model.compile(optimizer='adam', loss='binary_crossentropy',  metrics=[\"mae\"])"
   ]
  },
  {
   "cell_type": "code",
   "execution_count": null,
   "metadata": {},
   "outputs": [
    {
     "name": "stdout",
     "output_type": "stream",
     "text": [
      "Train on 9400 samples, validate on 3134 samples\n",
      "Epoch 1/160\n",
      "9400/9400 [==============================] - 2s 219us/step - loss: 0.5848 - mean_absolute_error: 0.2048 - val_loss: 0.5959 - val_mean_absolute_error: 0.2108\n",
      "Epoch 2/160\n",
      "9400/9400 [==============================] - 2s 226us/step - loss: 0.5844 - mean_absolute_error: 0.2037 - val_loss: 0.5918 - val_mean_absolute_error: 0.2091\n",
      "Epoch 3/160\n",
      "9400/9400 [==============================] - 2s 216us/step - loss: 0.5832 - mean_absolute_error: 0.2030 - val_loss: 0.5886 - val_mean_absolute_error: 0.2065\n",
      "Epoch 4/160\n",
      "3750/9400 [==========>...................] - ETA: 1s - loss: 0.5828 - mean_absolute_error: 0.2042"
     ]
    }
   ],
   "source": [
    "history = model.fit(train_X, train_y, shuffle=True, batch_size=150, epochs=160, validation_data=(test_X, test_y))"
   ]
  },
  {
   "cell_type": "code",
   "execution_count": 194,
   "metadata": {},
   "outputs": [
    {
     "name": "stdout",
     "output_type": "stream",
     "text": [
      "3134/3134 [==============================] - 1s 182us/step\n",
      "[0.5932526790038293, 0.20917394572789302]\n",
      "MAE: 0.2091739456514871\n"
     ]
    }
   ],
   "source": [
    "prediction = model.predict(test_X)\n",
    "\n",
    "score = model.evaluate(test_X, test_y)\n",
    "print(score)\n",
    "\n",
    "predictions = model.predict(test_X)\n",
    "print(f\"MAE: {mean_absolute_error(test_y, predictions)}\")"
   ]
  },
  {
   "cell_type": "code",
   "execution_count": 195,
   "metadata": {},
   "outputs": [
    {
     "data": {
      "image/png": "[encoded data removed]",
      "text/plain": [
       "<matplotlib.figure.Figure at 0x1a43c9ce10>"
      ]
     },
     "metadata": {},
     "output_type": "display_data"
    }
   ],
   "source": [
    "plt.plot(history.history['val_loss'], label='val_loss')\n",
    "plt.plot(history.history['loss'], label='loss')\n",
    "plt.ylabel('acc')\n",
    "plt.xlabel('epoch')\n",
    "plt.legend()\n",
    "plt.show()"
   ]
  },
  {
   "cell_type": "code",
   "execution_count": 206,
   "metadata": {},
   "outputs": [],
   "source": [
    "padding_look_back = df[df.date == start_date].index.values[0]  \n",
    "padding = np.full(train_X.shape[0] + padding_look_back, np.nan)\n",
    "prediction_trading_signal = np.concatenate((padding, predictions), axis=None)\n",
    "df['p_t_s_lstm'] = prediction_trading_signal\n",
    "df.to_csv(f'../datasets/{symbol}.csv')"
   ]
  },
  {
   "cell_type": "code",
   "execution_count": null,
   "metadata": {},
   "outputs": [],
   "source": []
  }
 ],
 "metadata": {
  "kernelspec": {
   "display_name": "Python 3",
   "language": "python",
   "name": "python3"
  },
  "language_info": {
   "codemirror_mode": {
    "name": "ipython",
    "version": 3
   },
   "file_extension": ".py",
   "mimetype": "text/x-python",
   "name": "python",
   "nbconvert_exporter": "python",
   "pygments_lexer": "ipython3",
   "version": "3.6.4"
  }
 },
 "nbformat": 4,
 "nbformat_minor": 2
}
