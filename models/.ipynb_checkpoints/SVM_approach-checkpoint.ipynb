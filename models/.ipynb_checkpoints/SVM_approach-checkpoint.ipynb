{
 "cells": [
  {
   "cell_type": "code",
   "execution_count": 2,
   "metadata": {
    "collapsed": true
   },
   "outputs": [],
   "source": [
    "import pandas as pd\n",
    "\n",
    "from sklearn.model_selection import train_test_split\n",
    "from sklearn.metrics import *\n",
    "\n",
    "from sklearn.svm import SVR\n",
    "from sklearn.model_selection import GridSearchCV\n",
    "\n",
    "import numpy as np\n",
    "\n",
    "import seaborn as sns\n",
    "import matplotlib.pyplot as plt\n",
    "%matplotlib inline\n",
    "\n",
    "sns.set()"
   ]
  },
  {
   "cell_type": "code",
   "execution_count": 9,
   "metadata": {},
   "outputs": [],
   "source": [
    "symbol = 'S&P_500'\n",
    "df = pd.read_csv(f'datasets/{symbol}.csv')"
   ]
  },
  {
   "cell_type": "code",
   "execution_count": 14,
   "metadata": {},
   "outputs": [],
   "source": [
    "y = df.trading_signal\n",
    "X = df.drop(['trading_signal', 'close', 'low', 'high', 'open', 'volume'], axis=1).select_dtypes(exclude=['object'])\n",
    "X = (X-X.min())/(X.max()-X.min())\n",
    "train_X, test_X, train_y, test_y = train_test_split(X.as_matrix(), y.as_matrix(), test_size=0.25)"
   ]
  },
  {
   "cell_type": "code",
   "execution_count": 15,
   "metadata": {},
   "outputs": [
    {
     "name": "stdout",
     "output_type": "stream",
     "text": [
      "MAE: 0.2180623532230728\n"
     ]
    }
   ],
   "source": [
    "model = SVR(C= 5, degree= 1, kernel= 'rbf')\n",
    "model.fit(train_X, train_y)\n",
    "print(f\"MAE: {mean_absolute_error(test_y, model.predict(test_X))}\")"
   ]
  },
  {
   "cell_type": "code",
   "execution_count": 7,
   "metadata": {},
   "outputs": [
    {
     "name": "stdout",
     "output_type": "stream",
     "text": [
      "Fitting 2 folds for each of 75 candidates, totalling 150 fits\n"
     ]
    },
    {
     "name": "stderr",
     "output_type": "stream",
     "text": [
      "[Parallel(n_jobs=5)]: Done  40 tasks      | elapsed:    2.3s\n",
      "[Parallel(n_jobs=5)]: Done 150 out of 150 | elapsed:    8.4s finished\n"
     ]
    },
    {
     "name": "stdout",
     "output_type": "stream",
     "text": [
      "MAE: 0.21899350187042155\n",
      "0.3551602599157127 {'C': 5, 'degree': 1, 'kernel': 'rbf'}\n"
     ]
    }
   ],
   "source": [
    "parameters = {\n",
    "    'kernel': ['linear', 'poly', 'rbf'],\n",
    "    'degree': range(1,6),\n",
    "    'C': range(1,6)   \n",
    "}\n",
    "\n",
    "grid = GridSearchCV(SVR(), parameters, cv = 2, n_jobs = 5, verbose=1)\n",
    "grid.fit(train_X, train_y)\n",
    "\n",
    "print(f\"MAE: {mean_absolute_error(test_y, grid.predict(test_X))}\")\n",
    "print(grid.best_score_, grid.best_params_)"
   ]
  },
  {
   "cell_type": "code",
   "execution_count": null,
   "metadata": {},
   "outputs": [],
   "source": []
  }
 ],
 "metadata": {
  "kernelspec": {
   "display_name": "Python 3",
   "language": "python",
   "name": "python3"
  },
  "language_info": {
   "codemirror_mode": {
    "name": "ipython",
    "version": 3
   },
   "file_extension": ".py",
   "mimetype": "text/x-python",
   "name": "python",
   "nbconvert_exporter": "python",
   "pygments_lexer": "ipython3",
   "version": "3.6.4"
  }
 },
 "nbformat": 4,
 "nbformat_minor": 2
}
